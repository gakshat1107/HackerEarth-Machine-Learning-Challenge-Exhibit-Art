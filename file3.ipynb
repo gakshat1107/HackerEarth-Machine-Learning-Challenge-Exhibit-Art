{
 "cells": [
  {
   "cell_type": "markdown",
   "metadata": {},
   "source": [
    "# Finding schedule diff and dummies"
   ]
  },
  {
   "cell_type": "code",
   "execution_count": null,
   "metadata": {},
   "outputs": [],
   "source": [
    "import numpy as np\n",
    "import pandas as pd\n",
    "import scipy.stats as stats\n",
    "import statsmodels.api as sm\n",
    "import matplotlib.pyplot as plt\n",
    "from scipy.stats import skew, norm\n",
    "import seaborn as sns\n",
    "%matplotlib inline"
   ]
  },
  {
   "cell_type": "code",
   "execution_count": 16,
   "metadata": {},
   "outputs": [],
   "source": [
    "train=pd.read_csv('dataset/train.csv')\n",
    "test=pd.read_csv('dataset/test.csv')"
   ]
  },
  {
   "cell_type": "markdown",
   "metadata": {},
   "source": [
    "# EDA & Preprocessing"
   ]
  },
  {
   "cell_type": "code",
   "execution_count": 17,
   "metadata": {},
   "outputs": [
    {
     "data": {
      "text/plain": [
       "((6500, 20), (3500, 19))"
      ]
     },
     "execution_count": 17,
     "metadata": {},
     "output_type": "execute_result"
    }
   ],
   "source": [
    "train.shape, test.shape"
   ]
  },
  {
   "cell_type": "code",
   "execution_count": 18,
   "metadata": {},
   "outputs": [
    {
     "data": {
      "text/html": [
       "<div>\n",
       "<style scoped>\n",
       "    .dataframe tbody tr th:only-of-type {\n",
       "        vertical-align: middle;\n",
       "    }\n",
       "\n",
       "    .dataframe tbody tr th {\n",
       "        vertical-align: top;\n",
       "    }\n",
       "\n",
       "    .dataframe thead th {\n",
       "        text-align: right;\n",
       "    }\n",
       "</style>\n",
       "<table border=\"1\" class=\"dataframe\">\n",
       "  <thead>\n",
       "    <tr style=\"text-align: right;\">\n",
       "      <th></th>\n",
       "      <th>Customer Id</th>\n",
       "      <th>Artist Name</th>\n",
       "      <th>Artist Reputation</th>\n",
       "      <th>Height</th>\n",
       "      <th>Width</th>\n",
       "      <th>Weight</th>\n",
       "      <th>Material</th>\n",
       "      <th>Price Of Sculpture</th>\n",
       "      <th>Base Shipping Price</th>\n",
       "      <th>International</th>\n",
       "      <th>Express Shipment</th>\n",
       "      <th>Installation Included</th>\n",
       "      <th>Transport</th>\n",
       "      <th>Fragile</th>\n",
       "      <th>Customer Information</th>\n",
       "      <th>Remote Location</th>\n",
       "      <th>Scheduled Date</th>\n",
       "      <th>Delivery Date</th>\n",
       "      <th>Customer Location</th>\n",
       "      <th>Cost</th>\n",
       "    </tr>\n",
       "  </thead>\n",
       "  <tbody>\n",
       "    <tr>\n",
       "      <th>0</th>\n",
       "      <td>fffe3900350033003300</td>\n",
       "      <td>Billy Jenkins</td>\n",
       "      <td>0.26</td>\n",
       "      <td>17.0</td>\n",
       "      <td>6.0</td>\n",
       "      <td>4128.0</td>\n",
       "      <td>Brass</td>\n",
       "      <td>13.91</td>\n",
       "      <td>16.27</td>\n",
       "      <td>Yes</td>\n",
       "      <td>Yes</td>\n",
       "      <td>No</td>\n",
       "      <td>Airways</td>\n",
       "      <td>No</td>\n",
       "      <td>Working Class</td>\n",
       "      <td>No</td>\n",
       "      <td>06/07/15</td>\n",
       "      <td>06/03/15</td>\n",
       "      <td>New Michelle, OH 50777</td>\n",
       "      <td>-283.29</td>\n",
       "    </tr>\n",
       "    <tr>\n",
       "      <th>1</th>\n",
       "      <td>fffe3800330031003900</td>\n",
       "      <td>Jean Bryant</td>\n",
       "      <td>0.28</td>\n",
       "      <td>3.0</td>\n",
       "      <td>3.0</td>\n",
       "      <td>61.0</td>\n",
       "      <td>Brass</td>\n",
       "      <td>6.83</td>\n",
       "      <td>15.00</td>\n",
       "      <td>No</td>\n",
       "      <td>No</td>\n",
       "      <td>No</td>\n",
       "      <td>Roadways</td>\n",
       "      <td>No</td>\n",
       "      <td>Working Class</td>\n",
       "      <td>No</td>\n",
       "      <td>03/06/17</td>\n",
       "      <td>03/05/17</td>\n",
       "      <td>New Michaelport, WY 12072</td>\n",
       "      <td>-159.96</td>\n",
       "    </tr>\n",
       "    <tr>\n",
       "      <th>2</th>\n",
       "      <td>fffe3600370035003100</td>\n",
       "      <td>Laura Miller</td>\n",
       "      <td>0.07</td>\n",
       "      <td>8.0</td>\n",
       "      <td>5.0</td>\n",
       "      <td>237.0</td>\n",
       "      <td>Clay</td>\n",
       "      <td>4.96</td>\n",
       "      <td>21.18</td>\n",
       "      <td>No</td>\n",
       "      <td>No</td>\n",
       "      <td>No</td>\n",
       "      <td>Roadways</td>\n",
       "      <td>Yes</td>\n",
       "      <td>Working Class</td>\n",
       "      <td>Yes</td>\n",
       "      <td>03/09/15</td>\n",
       "      <td>03/08/15</td>\n",
       "      <td>Bowmanshire, WA 19241</td>\n",
       "      <td>-154.29</td>\n",
       "    </tr>\n",
       "    <tr>\n",
       "      <th>3</th>\n",
       "      <td>fffe350031003300</td>\n",
       "      <td>Robert Chaires</td>\n",
       "      <td>0.12</td>\n",
       "      <td>9.0</td>\n",
       "      <td>NaN</td>\n",
       "      <td>NaN</td>\n",
       "      <td>Aluminium</td>\n",
       "      <td>5.81</td>\n",
       "      <td>16.31</td>\n",
       "      <td>No</td>\n",
       "      <td>No</td>\n",
       "      <td>No</td>\n",
       "      <td>NaN</td>\n",
       "      <td>No</td>\n",
       "      <td>Wealthy</td>\n",
       "      <td>Yes</td>\n",
       "      <td>05/24/15</td>\n",
       "      <td>05/20/15</td>\n",
       "      <td>East Robyn, KY 86375</td>\n",
       "      <td>-161.16</td>\n",
       "    </tr>\n",
       "    <tr>\n",
       "      <th>4</th>\n",
       "      <td>fffe3900320038003400</td>\n",
       "      <td>Rosalyn Krol</td>\n",
       "      <td>0.15</td>\n",
       "      <td>17.0</td>\n",
       "      <td>6.0</td>\n",
       "      <td>324.0</td>\n",
       "      <td>Aluminium</td>\n",
       "      <td>3.18</td>\n",
       "      <td>11.94</td>\n",
       "      <td>Yes</td>\n",
       "      <td>Yes</td>\n",
       "      <td>Yes</td>\n",
       "      <td>Airways</td>\n",
       "      <td>No</td>\n",
       "      <td>Working Class</td>\n",
       "      <td>No</td>\n",
       "      <td>12/18/16</td>\n",
       "      <td>12/14/16</td>\n",
       "      <td>Aprilside, PA 52793</td>\n",
       "      <td>-159.23</td>\n",
       "    </tr>\n",
       "  </tbody>\n",
       "</table>\n",
       "</div>"
      ],
      "text/plain": [
       "            Customer Id     Artist Name  Artist Reputation  Height  Width  \\\n",
       "0  fffe3900350033003300   Billy Jenkins               0.26    17.0    6.0   \n",
       "1  fffe3800330031003900     Jean Bryant               0.28     3.0    3.0   \n",
       "2  fffe3600370035003100    Laura Miller               0.07     8.0    5.0   \n",
       "3      fffe350031003300  Robert Chaires               0.12     9.0    NaN   \n",
       "4  fffe3900320038003400    Rosalyn Krol               0.15    17.0    6.0   \n",
       "\n",
       "   Weight   Material  Price Of Sculpture  Base Shipping Price International  \\\n",
       "0  4128.0      Brass               13.91                16.27           Yes   \n",
       "1    61.0      Brass                6.83                15.00            No   \n",
       "2   237.0       Clay                4.96                21.18            No   \n",
       "3     NaN  Aluminium                5.81                16.31            No   \n",
       "4   324.0  Aluminium                3.18                11.94           Yes   \n",
       "\n",
       "  Express Shipment Installation Included Transport Fragile  \\\n",
       "0              Yes                    No   Airways      No   \n",
       "1               No                    No  Roadways      No   \n",
       "2               No                    No  Roadways     Yes   \n",
       "3               No                    No       NaN      No   \n",
       "4              Yes                   Yes   Airways      No   \n",
       "\n",
       "  Customer Information Remote Location Scheduled Date Delivery Date  \\\n",
       "0        Working Class              No       06/07/15      06/03/15   \n",
       "1        Working Class              No       03/06/17      03/05/17   \n",
       "2        Working Class             Yes       03/09/15      03/08/15   \n",
       "3              Wealthy             Yes       05/24/15      05/20/15   \n",
       "4        Working Class              No       12/18/16      12/14/16   \n",
       "\n",
       "           Customer Location    Cost  \n",
       "0     New Michelle, OH 50777 -283.29  \n",
       "1  New Michaelport, WY 12072 -159.96  \n",
       "2      Bowmanshire, WA 19241 -154.29  \n",
       "3       East Robyn, KY 86375 -161.16  \n",
       "4        Aprilside, PA 52793 -159.23  "
      ]
     },
     "execution_count": 18,
     "metadata": {},
     "output_type": "execute_result"
    }
   ],
   "source": [
    "train.head()"
   ]
  },
  {
   "cell_type": "code",
   "execution_count": 19,
   "metadata": {},
   "outputs": [
    {
     "name": "stdout",
     "output_type": "stream",
     "text": [
      "<class 'pandas.core.frame.DataFrame'>\n",
      "RangeIndex: 6500 entries, 0 to 6499\n",
      "Data columns (total 20 columns):\n",
      " #   Column                 Non-Null Count  Dtype  \n",
      "---  ------                 --------------  -----  \n",
      " 0   Customer Id            6500 non-null   object \n",
      " 1   Artist Name            6500 non-null   object \n",
      " 2   Artist Reputation      5750 non-null   float64\n",
      " 3   Height                 6125 non-null   float64\n",
      " 4   Width                  5916 non-null   float64\n",
      " 5   Weight                 5913 non-null   float64\n",
      " 6   Material               5736 non-null   object \n",
      " 7   Price Of Sculpture     6500 non-null   float64\n",
      " 8   Base Shipping Price    6500 non-null   float64\n",
      " 9   International          6500 non-null   object \n",
      " 10  Express Shipment       6500 non-null   object \n",
      " 11  Installation Included  6500 non-null   object \n",
      " 12  Transport              5108 non-null   object \n",
      " 13  Fragile                6500 non-null   object \n",
      " 14  Customer Information   6500 non-null   object \n",
      " 15  Remote Location        5729 non-null   object \n",
      " 16  Scheduled Date         6500 non-null   object \n",
      " 17  Delivery Date          6500 non-null   object \n",
      " 18  Customer Location      6500 non-null   object \n",
      " 19  Cost                   6500 non-null   float64\n",
      "dtypes: float64(7), object(13)\n",
      "memory usage: 1015.8+ KB\n"
     ]
    }
   ],
   "source": [
    "train.info()"
   ]
  },
  {
   "cell_type": "code",
   "execution_count": 20,
   "metadata": {},
   "outputs": [
    {
     "data": {
      "text/plain": [
       "Customer Id               True\n",
       "Artist Name               True\n",
       "Artist Reputation        False\n",
       "Height                   False\n",
       "Width                    False\n",
       "Weight                   False\n",
       "Material                  True\n",
       "Price Of Sculpture       False\n",
       "Base Shipping Price      False\n",
       "International             True\n",
       "Express Shipment          True\n",
       "Installation Included     True\n",
       "Transport                 True\n",
       "Fragile                   True\n",
       "Customer Information      True\n",
       "Remote Location           True\n",
       "Scheduled Date            True\n",
       "Delivery Date             True\n",
       "Customer Location         True\n",
       "Cost                     False\n",
       "dtype: bool"
      ]
     },
     "execution_count": 20,
     "metadata": {},
     "output_type": "execute_result"
    }
   ],
   "source": [
    "train.dtypes==object"
   ]
  },
  {
   "cell_type": "code",
   "execution_count": 21,
   "metadata": {},
   "outputs": [],
   "source": [
    "# for i in train.columns:\n",
    "#     if train[i].dtype==object:\n",
    "#         print(train[i].value_counts())"
   ]
  },
  {
   "cell_type": "code",
   "execution_count": 22,
   "metadata": {},
   "outputs": [
    {
     "data": {
      "text/plain": [
       "Index(['Customer Id', 'Artist Name', 'Artist Reputation', 'Height', 'Width',\n",
       "       'Weight', 'Material', 'Price Of Sculpture', 'Base Shipping Price',\n",
       "       'International', 'Express Shipment', 'Installation Included',\n",
       "       'Transport', 'Fragile', 'Customer Information', 'Remote Location',\n",
       "       'Scheduled Date', 'Delivery Date', 'Customer Location', 'Cost'],\n",
       "      dtype='object')"
      ]
     },
     "execution_count": 22,
     "metadata": {},
     "output_type": "execute_result"
    }
   ],
   "source": [
    "train.columns"
   ]
  },
  {
   "cell_type": "code",
   "execution_count": 23,
   "metadata": {},
   "outputs": [
    {
     "data": {
      "image/png": "[encoded data removed]",
      "text/plain": [
       "<Figure size 1440x864 with 6 Axes>"
      ]
     },
     "metadata": {
      "needs_background": "light"
     },
     "output_type": "display_data"
    }
   ],
   "source": [
    "norm_train=train.drop(['Cost'], axis=1)\n",
    "fig, ax=plt.subplots(2,3, figsize=(20,12))\n",
    "r=0\n",
    "c=0\n",
    "for i in norm_train.columns:\n",
    "    if norm_train[i].dtype==float:\n",
    "    \n",
    "        sns.distplot(norm_train[i], kde=True, hist=True, fit=norm, ax=ax[r, c])\n",
    "        c+=1\n",
    "        if c==3:\n",
    "            r=1\n",
    "            c=0"
   ]
  },
  {
   "cell_type": "code",
   "execution_count": 24,
   "metadata": {},
   "outputs": [
    {
     "data": {
      "image/png": "[encoded data removed]",
      "text/plain": [
       "<Figure size 2160x1800 with 2 Axes>"
      ]
     },
     "metadata": {
      "needs_background": "light"
     },
     "output_type": "display_data"
    }
   ],
   "source": [
    "#Correlation matrix\n",
    "f, ax=plt.subplots(figsize=(30, 25))\n",
    "mat=train.corr('pearson')\n",
    "mask=np.triu(np.ones_like(mat, dtype=bool))\n",
    "cmap=sns.diverging_palette(230, 20, as_cmap=True)\n",
    "sns.heatmap(mat, mask=mask, cmap=cmap, vmax=1, center=0, annot=True, square=True,\n",
    "           linewidth=.5, cbar_kws={\"shrink\":.5})\n",
    "plt.show()"
   ]
  },
  {
   "cell_type": "code",
   "execution_count": 25,
   "metadata": {},
   "outputs": [],
   "source": [
    "y=train['Cost']\n",
    "train.drop(['Cost'], axis=1, inplace=True)"
   ]
  },
  {
   "cell_type": "code",
   "execution_count": 26,
   "metadata": {},
   "outputs": [
    {
     "data": {
      "text/plain": [
       "((6500, 19), (3500, 19), (10000, 19))"
      ]
     },
     "execution_count": 26,
     "metadata": {},
     "output_type": "execute_result"
    }
   ],
   "source": [
    "combine=pd.concat([train, test], axis=0, sort=False)\n",
    "train.shape, test.shape, combine.shape"
   ]
  },
  {
   "cell_type": "code",
   "execution_count": 27,
   "metadata": {},
   "outputs": [
    {
     "name": "stdout",
     "output_type": "stream",
     "text": [
      "fffe3400370039003900    1\n",
      "fffe3700390036003900    1\n",
      "fffe3300320038003700    1\n",
      "fffe3200300039003000    1\n",
      "fffe3300310037003800    1\n",
      "                       ..\n",
      "fffe3200340034003500    1\n",
      "fffe3200390030003600    1\n",
      "fffe3900370035003100    1\n",
      "fffe3300380037003100    1\n",
      "fffe3600330035003200    1\n",
      "Name: Customer Id, Length: 10000, dtype: int64\n",
      "['fffe3900350033003300' 'fffe3800330031003900' 'fffe3600370035003100' ...\n",
      " 'fffe3200350031003700' 'fffe3100380031003000' 'fffe3200340037003300']\n",
      "James Moore        4\n",
      "John Brown         4\n",
      "Robert Williams    4\n",
      "Robert Davis       4\n",
      "James Smith        3\n",
      "                  ..\n",
      "Sean Mcwhirter     1\n",
      "Justin Carney      1\n",
      "Joshua Bush        1\n",
      "Pete Oh            1\n",
      "Eula Westbrook     1\n",
      "Name: Artist Name, Length: 9865, dtype: int64\n",
      "['Billy Jenkins' 'Jean Bryant' 'Laura Miller' ... 'Lashawnda Walton'\n",
      " 'Rita Battee' 'Paul Jones']\n",
      "Aluminium    1367\n",
      "Bronze       1363\n",
      "Brass        1340\n",
      "Clay         1313\n",
      "Wood         1307\n",
      "Marble       1302\n",
      "Stone        1244\n",
      "Name: Material, dtype: int64\n",
      "['Brass' 'Clay' 'Aluminium' 'Wood' 'Marble' 'Bronze' 'Stone' nan]\n",
      "No     6620\n",
      "Yes    3380\n",
      "Name: International, dtype: int64\n",
      "['Yes' 'No']\n",
      "No     6697\n",
      "Yes    3303\n",
      "Name: Express Shipment, dtype: int64\n",
      "['Yes' 'No']\n",
      "No     6038\n",
      "Yes    3962\n",
      "Name: Installation Included, dtype: int64\n",
      "['No' 'Yes']\n",
      "Roadways     3366\n",
      "Airways      3033\n",
      "Waterways    1977\n",
      "Name: Transport, dtype: int64\n",
      "['Airways' 'Roadways' nan 'Waterways']\n",
      "No     8395\n",
      "Yes    1605\n",
      "Name: Fragile, dtype: int64\n",
      "['No' 'Yes']\n",
      "Working Class    7381\n",
      "Wealthy          2619\n",
      "Name: Customer Information, dtype: int64\n",
      "['Working Class' 'Wealthy']\n",
      "No     7383\n",
      "Yes    1846\n",
      "Name: Remote Location, dtype: int64\n",
      "['No' 'Yes' nan]\n",
      "04/27/15    16\n",
      "07/17/15    15\n",
      "05/19/19    15\n",
      "08/05/19    14\n",
      "08/23/16    14\n",
      "            ..\n",
      "05/14/15     1\n",
      "04/10/18     1\n",
      "06/16/16     1\n",
      "10/24/16     1\n",
      "08/20/17     1\n",
      "Name: Scheduled Date, Length: 1697, dtype: int64\n",
      "['06/07/15' '03/06/17' '03/09/15' ... '10/29/16' '12/12/15' '07/23/15']\n",
      "11/13/18    15\n",
      "03/07/17    14\n",
      "03/08/17    13\n",
      "12/17/16    13\n",
      "09/10/17    13\n",
      "            ..\n",
      "01/03/16     1\n",
      "07/02/15     1\n",
      "12/04/15     1\n",
      "08/26/19     1\n",
      "06/11/15     1\n",
      "Name: Delivery Date, Length: 1699, dtype: int64\n",
      "['06/03/15' '03/05/17' '03/08/15' ... '07/03/15' '09/12/17' '12/31/14']\n",
      "DPO AP 14885                       2\n",
      "North Matthewstad, OR 18846        1\n",
      "Susanport, MO 29366                1\n",
      "FPO AP 29067                       1\n",
      "DPO AP 81214                       1\n",
      "                                  ..\n",
      "Johnborough, CA 45982              1\n",
      "West Allisonshire, UT 23415        1\n",
      "Lake Christinachester, MN 00723    1\n",
      "Port Laura, MT 14785               1\n",
      "Louisbury, OH 44697                1\n",
      "Name: Customer Location, Length: 9999, dtype: int64\n",
      "['New Michelle, OH 50777' 'New Michaelport, WY 12072'\n",
      " 'Bowmanshire, WA 19241' ... 'Lake Christian, AL 95571'\n",
      " 'West Regina, UT 49761' 'Carsonshire, KY 50092']\n"
     ]
    }
   ],
   "source": [
    "for i in combine.columns:\n",
    "    if combine[i].dtype==object:\n",
    "        print(combine[i].value_counts())\n",
    "        print(combine[i].unique())"
   ]
  },
  {
   "cell_type": "code",
   "execution_count": 28,
   "metadata": {},
   "outputs": [],
   "source": [
    "# for i in combine['Scheduled Date'].unique():\n",
    "#     print(i)"
   ]
  },
  {
   "cell_type": "code",
   "execution_count": 29,
   "metadata": {},
   "outputs": [],
   "source": [
    "combine.drop(['Customer Id'], axis=1, inplace=True)"
   ]
  },
  {
   "cell_type": "code",
   "execution_count": 30,
   "metadata": {},
   "outputs": [],
   "source": [
    "# #Drop Id (all unique values), Location (only 1 location repeated 2 times others are unique)\n",
    "# combine.drop(['Customer Id', 'Customer Location'], axis=1, inplace=True)\n",
    "# combine.shape"
   ]
  },
  {
   "cell_type": "code",
   "execution_count": 31,
   "metadata": {},
   "outputs": [],
   "source": [
    "# #As scheduled and delivery dates does not effect the cost\n",
    "# combine.drop(['Scheduled Date', 'Delivery Date'], axis=1, inplace=True)\n",
    "# combine.shape"
   ]
  },
  {
   "cell_type": "code",
   "execution_count": 32,
   "metadata": {},
   "outputs": [
    {
     "data": {
      "text/plain": [
       "Artist Name              False\n",
       "Artist Reputation         True\n",
       "Height                    True\n",
       "Width                     True\n",
       "Weight                    True\n",
       "Material                 False\n",
       "Price Of Sculpture        True\n",
       "Base Shipping Price       True\n",
       "International            False\n",
       "Express Shipment         False\n",
       "Installation Included    False\n",
       "Transport                False\n",
       "Fragile                  False\n",
       "Customer Information     False\n",
       "Remote Location          False\n",
       "Scheduled Date           False\n",
       "Delivery Date            False\n",
       "Customer Location        False\n",
       "dtype: bool"
      ]
     },
     "execution_count": 32,
     "metadata": {},
     "output_type": "execute_result"
    }
   ],
   "source": [
    "combine.dtypes==float"
   ]
  },
  {
   "cell_type": "code",
   "execution_count": 33,
   "metadata": {},
   "outputs": [
    {
     "data": {
      "text/html": [
       "<div>\n",
       "<style scoped>\n",
       "    .dataframe tbody tr th:only-of-type {\n",
       "        vertical-align: middle;\n",
       "    }\n",
       "\n",
       "    .dataframe tbody tr th {\n",
       "        vertical-align: top;\n",
       "    }\n",
       "\n",
       "    .dataframe thead th {\n",
       "        text-align: right;\n",
       "    }\n",
       "</style>\n",
       "<table border=\"1\" class=\"dataframe\">\n",
       "  <thead>\n",
       "    <tr style=\"text-align: right;\">\n",
       "      <th></th>\n",
       "      <th>NaN_sum</th>\n",
       "      <th>feat</th>\n",
       "      <th>Perc%</th>\n",
       "      <th>Usability</th>\n",
       "    </tr>\n",
       "  </thead>\n",
       "  <tbody>\n",
       "    <tr>\n",
       "      <th>Height</th>\n",
       "      <td>494</td>\n",
       "      <td>Height</td>\n",
       "      <td>4.94</td>\n",
       "      <td>Keep</td>\n",
       "    </tr>\n",
       "    <tr>\n",
       "      <th>Width</th>\n",
       "      <td>725</td>\n",
       "      <td>Width</td>\n",
       "      <td>7.25</td>\n",
       "      <td>Keep</td>\n",
       "    </tr>\n",
       "    <tr>\n",
       "      <th>Weight</th>\n",
       "      <td>736</td>\n",
       "      <td>Weight</td>\n",
       "      <td>7.36</td>\n",
       "      <td>Keep</td>\n",
       "    </tr>\n",
       "    <tr>\n",
       "      <th>Material</th>\n",
       "      <td>764</td>\n",
       "      <td>Material</td>\n",
       "      <td>7.64</td>\n",
       "      <td>Keep</td>\n",
       "    </tr>\n",
       "    <tr>\n",
       "      <th>Remote Location</th>\n",
       "      <td>771</td>\n",
       "      <td>Remote Location</td>\n",
       "      <td>7.71</td>\n",
       "      <td>Keep</td>\n",
       "    </tr>\n",
       "    <tr>\n",
       "      <th>Artist Reputation</th>\n",
       "      <td>972</td>\n",
       "      <td>Artist Reputation</td>\n",
       "      <td>9.72</td>\n",
       "      <td>Keep</td>\n",
       "    </tr>\n",
       "    <tr>\n",
       "      <th>Transport</th>\n",
       "      <td>1624</td>\n",
       "      <td>Transport</td>\n",
       "      <td>16.24</td>\n",
       "      <td>Keep</td>\n",
       "    </tr>\n",
       "  </tbody>\n",
       "</table>\n",
       "</div>"
      ],
      "text/plain": [
       "                   NaN_sum               feat  Perc% Usability\n",
       "Height                 494             Height   4.94      Keep\n",
       "Width                  725              Width   7.25      Keep\n",
       "Weight                 736             Weight   7.36      Keep\n",
       "Material               764           Material   7.64      Keep\n",
       "Remote Location        771    Remote Location   7.71      Keep\n",
       "Artist Reputation      972  Artist Reputation   9.72      Keep\n",
       "Transport             1624          Transport  16.24      Keep"
      ]
     },
     "execution_count": 33,
     "metadata": {},
     "output_type": "execute_result"
    }
   ],
   "source": [
    "#Looking at NaN % within data\n",
    "\n",
    "nan=pd.DataFrame(combine.isna().sum(), columns=['NaN_sum'])\n",
    "nan['feat']=nan.index\n",
    "nan['Perc%']=(nan['NaN_sum']/10000)*100\n",
    "nan=nan[nan['NaN_sum']>0]\n",
    "nan=nan.sort_values(by=['NaN_sum'])\n",
    "nan['Usability']=np.where(nan['Perc%']>20, 'Discard', 'Keep')\n",
    "nan"
   ]
  },
  {
   "cell_type": "code",
   "execution_count": 34,
   "metadata": {},
   "outputs": [
    {
     "data": {
      "text/plain": [
       "<AxesSubplot:>"
      ]
     },
     "execution_count": 34,
     "metadata": {},
     "output_type": "execute_result"
    },
    {
     "data": {
      "image/png": "[encoded data removed]",
      "text/plain": [
       "<Figure size 1440x720 with 1 Axes>"
      ]
     },
     "metadata": {
      "needs_background": "light"
     },
     "output_type": "display_data"
    }
   ],
   "source": [
    "plt.figure(figsize=[20,10])\n",
    "sns.heatmap(combine.isnull(), yticklabels=False, cbar=False, cmap='Blues')"
   ]
  },
  {
   "cell_type": "code",
   "execution_count": 35,
   "metadata": {},
   "outputs": [],
   "source": [
    "from sklearn.impute import KNNImputer\n",
    "impute=KNNImputer()\n",
    "colsf=combine.select_dtypes(include=float).columns\n",
    "combine[colsf]=impute.fit_transform(combine.select_dtypes(include=float))"
   ]
  },
  {
   "cell_type": "code",
   "execution_count": 36,
   "metadata": {},
   "outputs": [
    {
     "data": {
      "text/plain": [
       "<AxesSubplot:>"
      ]
     },
     "execution_count": 36,
     "metadata": {},
     "output_type": "execute_result"
    },
    {
     "data": {
      "image/png": "[encoded data removed]",
      "text/plain": [
       "<Figure size 1440x720 with 1 Axes>"
      ]
     },
     "metadata": {
      "needs_background": "light"
     },
     "output_type": "display_data"
    }
   ],
   "source": [
    "plt.figure(figsize=[20,10])\n",
    "sns.heatmap(combine.isnull(), yticklabels=False, cbar=False, cmap='Blues')"
   ]
  },
  {
   "cell_type": "code",
   "execution_count": 37,
   "metadata": {},
   "outputs": [
    {
     "data": {
      "text/plain": [
       "<AxesSubplot:xlabel='Material', ylabel='count'>"
      ]
     },
     "execution_count": 37,
     "metadata": {},
     "output_type": "execute_result"
    },
    {
     "data": {
      "image/png": "[encoded data removed]",
      "text/plain": [
       "<Figure size 360x360 with 1 Axes>"
      ]
     },
     "metadata": {
      "needs_background": "light"
     },
     "output_type": "display_data"
    }
   ],
   "source": [
    "plt.figure(figsize=[5,5])\n",
    "sns.countplot(x='Material', data=combine)"
   ]
  },
  {
   "cell_type": "code",
   "execution_count": 38,
   "metadata": {},
   "outputs": [
    {
     "data": {
      "text/plain": [
       "<AxesSubplot:xlabel='Transport', ylabel='count'>"
      ]
     },
     "execution_count": 38,
     "metadata": {},
     "output_type": "execute_result"
    },
    {
     "data": {
      "image/png": "[encoded data removed]",
      "text/plain": [
       "<Figure size 360x360 with 1 Axes>"
      ]
     },
     "metadata": {
      "needs_background": "light"
     },
     "output_type": "display_data"
    }
   ],
   "source": [
    "plt.figure(figsize=[5,5])\n",
    "sns.countplot(x='Transport', data=combine)"
   ]
  },
  {
   "cell_type": "code",
   "execution_count": 39,
   "metadata": {},
   "outputs": [
    {
     "data": {
      "text/plain": [
       "<AxesSubplot:xlabel='Remote Location', ylabel='count'>"
      ]
     },
     "execution_count": 39,
     "metadata": {},
     "output_type": "execute_result"
    },
    {
     "data": {
      "image/png": "[encoded data removed]",
      "text/plain": [
       "<Figure size 360x360 with 1 Axes>"
      ]
     },
     "metadata": {
      "needs_background": "light"
     },
     "output_type": "display_data"
    }
   ],
   "source": [
    "plt.figure(figsize=[5,5])\n",
    "sns.countplot(x='Remote Location', data=combine)"
   ]
  },
  {
   "cell_type": "code",
   "execution_count": 40,
   "metadata": {},
   "outputs": [],
   "source": [
    "combine['Material']=combine['Material'].fillna(combine['Material'].mode()[0])\n",
    "combine['Transport']=combine['Transport'].fillna(combine['Transport'].mode()[0])\n",
    "combine['Remote Location']=combine['Remote Location'].fillna(combine['Remote Location'].mode()[0])"
   ]
  },
  {
   "cell_type": "code",
   "execution_count": 41,
   "metadata": {},
   "outputs": [],
   "source": [
    "# plt.figure(figsize=[20,10])\n",
    "# sns.heatmap(combine.isnull(), yticklabels=False, cbar=False, cmap='Blues')"
   ]
  },
  {
   "cell_type": "code",
   "execution_count": 42,
   "metadata": {},
   "outputs": [
    {
     "name": "stdout",
     "output_type": "stream",
     "text": [
      "James Moore        4\n",
      "John Brown         4\n",
      "Robert Williams    4\n",
      "Robert Davis       4\n",
      "James Smith        3\n",
      "                  ..\n",
      "Sean Mcwhirter     1\n",
      "Justin Carney      1\n",
      "Joshua Bush        1\n",
      "Pete Oh            1\n",
      "Eula Westbrook     1\n",
      "Name: Artist Name, Length: 9865, dtype: int64\n",
      "Aluminium    2131\n",
      "Bronze       1363\n",
      "Brass        1340\n",
      "Clay         1313\n",
      "Wood         1307\n",
      "Marble       1302\n",
      "Stone        1244\n",
      "Name: Material, dtype: int64\n",
      "No     6620\n",
      "Yes    3380\n",
      "Name: International, dtype: int64\n",
      "No     6697\n",
      "Yes    3303\n",
      "Name: Express Shipment, dtype: int64\n",
      "No     6038\n",
      "Yes    3962\n",
      "Name: Installation Included, dtype: int64\n",
      "Roadways     4990\n",
      "Airways      3033\n",
      "Waterways    1977\n",
      "Name: Transport, dtype: int64\n",
      "No     8395\n",
      "Yes    1605\n",
      "Name: Fragile, dtype: int64\n",
      "Working Class    7381\n",
      "Wealthy          2619\n",
      "Name: Customer Information, dtype: int64\n",
      "No     8154\n",
      "Yes    1846\n",
      "Name: Remote Location, dtype: int64\n",
      "04/27/15    16\n",
      "07/17/15    15\n",
      "05/19/19    15\n",
      "08/05/19    14\n",
      "08/23/16    14\n",
      "            ..\n",
      "05/14/15     1\n",
      "04/10/18     1\n",
      "06/16/16     1\n",
      "10/24/16     1\n",
      "08/20/17     1\n",
      "Name: Scheduled Date, Length: 1697, dtype: int64\n",
      "11/13/18    15\n",
      "03/07/17    14\n",
      "03/08/17    13\n",
      "12/17/16    13\n",
      "09/10/17    13\n",
      "            ..\n",
      "01/03/16     1\n",
      "07/02/15     1\n",
      "12/04/15     1\n",
      "08/26/19     1\n",
      "06/11/15     1\n",
      "Name: Delivery Date, Length: 1699, dtype: int64\n",
      "DPO AP 14885                       2\n",
      "North Matthewstad, OR 18846        1\n",
      "Susanport, MO 29366                1\n",
      "FPO AP 29067                       1\n",
      "DPO AP 81214                       1\n",
      "                                  ..\n",
      "Johnborough, CA 45982              1\n",
      "West Allisonshire, UT 23415        1\n",
      "Lake Christinachester, MN 00723    1\n",
      "Port Laura, MT 14785               1\n",
      "Louisbury, OH 44697                1\n",
      "Name: Customer Location, Length: 9999, dtype: int64\n"
     ]
    }
   ],
   "source": [
    "for i in combine.columns:\n",
    "    if combine[i].dtype==object:\n",
    "        print(combine[i].value_counts())\n",
    "#         print(combine[i].unique())"
   ]
  },
  {
   "cell_type": "code",
   "execution_count": 81,
   "metadata": {},
   "outputs": [
    {
     "data": {
      "text/plain": [
       "(10000, 18)"
      ]
     },
     "execution_count": 81,
     "metadata": {},
     "output_type": "execute_result"
    }
   ],
   "source": [
    "dummy_combine=pd.DataFrame.copy(combine)\n",
    "dummy_combine.shape"
   ]
  },
  {
   "cell_type": "code",
   "execution_count": 82,
   "metadata": {},
   "outputs": [],
   "source": [
    "# pd.get_dummies(combine['Material'])"
   ]
  },
  {
   "cell_type": "code",
   "execution_count": 83,
   "metadata": {},
   "outputs": [
    {
     "data": {
      "text/plain": [
       "(10000, 25)"
      ]
     },
     "execution_count": 83,
     "metadata": {},
     "output_type": "execute_result"
    }
   ],
   "source": [
    "dummy=pd.get_dummies(combine['Material'])\n",
    "dummy.columns=['Material_Aluminium', 'Material_Brass', 'Material_Bronze', 'Material_Clay', 'Material_Marble', 'Material_Stone', 'Material_Wood']\n",
    "dummy_combine=pd.concat([dummy_combine, dummy], axis=1)\n",
    "dummy_combine.shape"
   ]
  },
  {
   "cell_type": "code",
   "execution_count": 84,
   "metadata": {},
   "outputs": [
    {
     "data": {
      "text/plain": [
       "(10000, 27)"
      ]
     },
     "execution_count": 84,
     "metadata": {},
     "output_type": "execute_result"
    }
   ],
   "source": [
    "dummy=pd.get_dummies(combine['International'])\n",
    "dummy.columns=['International_No', 'International_Yes']\n",
    "dummy_combine=pd.concat([dummy_combine, dummy], axis=1)\n",
    "dummy_combine.shape"
   ]
  },
  {
   "cell_type": "code",
   "execution_count": 85,
   "metadata": {},
   "outputs": [
    {
     "data": {
      "text/plain": [
       "(10000, 29)"
      ]
     },
     "execution_count": 85,
     "metadata": {},
     "output_type": "execute_result"
    }
   ],
   "source": [
    "dummy=pd.get_dummies(combine['Express Shipment'])\n",
    "dummy.columns=['ExpressShipment_No', 'ExpressShipment_Yes']\n",
    "dummy_combine=pd.concat([dummy_combine, dummy], axis=1)\n",
    "dummy_combine.shape"
   ]
  },
  {
   "cell_type": "code",
   "execution_count": 86,
   "metadata": {},
   "outputs": [
    {
     "data": {
      "text/plain": [
       "(10000, 31)"
      ]
     },
     "execution_count": 86,
     "metadata": {},
     "output_type": "execute_result"
    }
   ],
   "source": [
    "dummy=pd.get_dummies(combine['Installation Included'])\n",
    "dummy.columns=['InstallationIncluded_No', 'InstallationIncluded_Yes']\n",
    "dummy_combine=pd.concat([dummy_combine, dummy], axis=1)\n",
    "dummy_combine.shape"
   ]
  },
  {
   "cell_type": "code",
   "execution_count": 87,
   "metadata": {},
   "outputs": [
    {
     "data": {
      "text/plain": [
       "(10000, 34)"
      ]
     },
     "execution_count": 87,
     "metadata": {},
     "output_type": "execute_result"
    }
   ],
   "source": [
    "dummy=pd.get_dummies(combine['Transport'])\n",
    "dummy.columns=['Transport_Airways', 'Transport_Roadways','Transport_Waterways']\n",
    "dummy_combine=pd.concat([dummy_combine, dummy], axis=1)\n",
    "dummy_combine.shape"
   ]
  },
  {
   "cell_type": "code",
   "execution_count": 88,
   "metadata": {},
   "outputs": [
    {
     "data": {
      "text/plain": [
       "(10000, 36)"
      ]
     },
     "execution_count": 88,
     "metadata": {},
     "output_type": "execute_result"
    }
   ],
   "source": [
    "dummy=pd.get_dummies(combine['Fragile'])\n",
    "dummy.columns=['Fragile_No', 'Fragile_Yes']\n",
    "dummy_combine=pd.concat([dummy_combine, dummy], axis=1)\n",
    "dummy_combine.shape"
   ]
  },
  {
   "cell_type": "code",
   "execution_count": 89,
   "metadata": {},
   "outputs": [
    {
     "data": {
      "text/plain": [
       "(10000, 38)"
      ]
     },
     "execution_count": 89,
     "metadata": {},
     "output_type": "execute_result"
    }
   ],
   "source": [
    "dummy=pd.get_dummies(combine['Customer Information'])\n",
    "dummy.columns=['CustomerInformation_Wealthy', 'CustomerInformation_WorkingClass']\n",
    "dummy_combine=pd.concat([dummy_combine, dummy], axis=1)\n",
    "dummy_combine.shape"
   ]
  },
  {
   "cell_type": "code",
   "execution_count": 90,
   "metadata": {},
   "outputs": [
    {
     "data": {
      "text/plain": [
       "(10000, 40)"
      ]
     },
     "execution_count": 90,
     "metadata": {},
     "output_type": "execute_result"
    }
   ],
   "source": [
    "dummy=pd.get_dummies(combine['Remote Location'])\n",
    "dummy.columns=['RemoteLocation_No', 'RemoteLocation_Yes']\n",
    "dummy_combine=pd.concat([dummy_combine, dummy], axis=1)\n",
    "dummy_combine.shape"
   ]
  },
  {
   "cell_type": "code",
   "execution_count": 91,
   "metadata": {},
   "outputs": [
    {
     "data": {
      "text/plain": [
       "(10000, 32)"
      ]
     },
     "execution_count": 91,
     "metadata": {},
     "output_type": "execute_result"
    }
   ],
   "source": [
    "dummy_combine.drop(['Remote Location', 'Customer Information', 'Fragile', 'Transport', 'Installation Included', 'Express Shipment', 'International', 'Material'],\n",
    "                    axis=1, inplace=True)\n",
    "dummy_combine.shape"
   ]
  },
  {
   "cell_type": "code",
   "execution_count": 92,
   "metadata": {},
   "outputs": [
    {
     "data": {
      "text/plain": [
       "Index(['Artist Name', 'Scheduled Date', 'Delivery Date', 'Customer Location'], dtype='object')"
      ]
     },
     "execution_count": 92,
     "metadata": {},
     "output_type": "execute_result"
    }
   ],
   "source": [
    "dummy_combine.select_dtypes(exclude=np.number).columns"
   ]
  },
  {
   "cell_type": "code",
   "execution_count": 93,
   "metadata": {},
   "outputs": [],
   "source": [
    "#dummy_combine['Scheduled Date']"
   ]
  },
  {
   "cell_type": "code",
   "execution_count": 94,
   "metadata": {},
   "outputs": [],
   "source": [
    "temp1=pd.to_datetime(dummy_combine['Scheduled Date'])\n",
    "temp2=pd.to_datetime(dummy_combine['Delivery Date'])"
   ]
  },
  {
   "cell_type": "code",
   "execution_count": 95,
   "metadata": {},
   "outputs": [
    {
     "data": {
      "text/plain": [
       "0      -4\n",
       "1      -1\n",
       "2      -1\n",
       "3      -4\n",
       "4      -4\n",
       "       ..\n",
       "3495    0\n",
       "3496    4\n",
       "3497    1\n",
       "3498    0\n",
       "3499   -4\n",
       "Length: 10000, dtype: int64"
      ]
     },
     "execution_count": 95,
     "metadata": {},
     "output_type": "execute_result"
    }
   ],
   "source": [
    "temp3=temp2-temp1\n",
    "temp3.map(lambda x: int(str(x).split()[0]))"
   ]
  },
  {
   "cell_type": "code",
   "execution_count": 96,
   "metadata": {},
   "outputs": [],
   "source": [
    "dummy_combine['Schedule diff']=pd.to_numeric(temp3)"
   ]
  },
  {
   "cell_type": "code",
   "execution_count": 97,
   "metadata": {},
   "outputs": [],
   "source": [
    "from sklearn.preprocessing import LabelEncoder"
   ]
  },
  {
   "cell_type": "code",
   "execution_count": 98,
   "metadata": {},
   "outputs": [],
   "source": [
    "# le=LabelEncoder()\n",
    "# temp4=le.fit_transform(dummy_combine['Customer Location'])\n",
    "# temp4"
   ]
  },
  {
   "cell_type": "code",
   "execution_count": 99,
   "metadata": {},
   "outputs": [
    {
     "data": {
      "text/plain": [
       "Artist Name                          object\n",
       "Artist Reputation                   float64\n",
       "Height                              float64\n",
       "Width                               float64\n",
       "Weight                              float64\n",
       "Price Of Sculpture                  float64\n",
       "Base Shipping Price                 float64\n",
       "Scheduled Date                       object\n",
       "Delivery Date                        object\n",
       "Customer Location                    object\n",
       "Material_Aluminium                    uint8\n",
       "Material_Brass                        uint8\n",
       "Material_Bronze                       uint8\n",
       "Material_Clay                         uint8\n",
       "Material_Marble                       uint8\n",
       "Material_Stone                        uint8\n",
       "Material_Wood                         uint8\n",
       "International_No                      uint8\n",
       "International_Yes                     uint8\n",
       "ExpressShipment_No                    uint8\n",
       "ExpressShipment_Yes                   uint8\n",
       "InstallationIncluded_No               uint8\n",
       "InstallationIncluded_Yes              uint8\n",
       "Transport_Airways                     uint8\n",
       "Transport_Roadways                    uint8\n",
       "Transport_Waterways                   uint8\n",
       "Fragile_No                            uint8\n",
       "Fragile_Yes                           uint8\n",
       "CustomerInformation_Wealthy           uint8\n",
       "CustomerInformation_WorkingClass      uint8\n",
       "RemoteLocation_No                     uint8\n",
       "RemoteLocation_Yes                    uint8\n",
       "Schedule diff                         int64\n",
       "dtype: object"
      ]
     },
     "execution_count": 99,
     "metadata": {},
     "output_type": "execute_result"
    }
   ],
   "source": [
    "dummy_combine.dtypes"
   ]
  },
  {
   "cell_type": "code",
   "execution_count": null,
   "metadata": {},
   "outputs": [],
   "source": []
  },
  {
   "cell_type": "code",
   "execution_count": 100,
   "metadata": {},
   "outputs": [
    {
     "data": {
      "text/plain": [
       "(10000, 29)"
      ]
     },
     "execution_count": 100,
     "metadata": {},
     "output_type": "execute_result"
    }
   ],
   "source": [
    "dummy_combine.drop(['Artist Name', 'Scheduled Date', 'Delivery Date', 'Customer Location'], axis=1, inplace=True)\n",
    "dummy_combine.shape"
   ]
  },
  {
   "cell_type": "code",
   "execution_count": 101,
   "metadata": {},
   "outputs": [],
   "source": [
    "# dummy_combine.dtypes==object"
   ]
  },
  {
   "cell_type": "code",
   "execution_count": 102,
   "metadata": {},
   "outputs": [],
   "source": [
    "# du.shape, dummy_combine.shape, train.shape, test.shape"
   ]
  },
  {
   "cell_type": "code",
   "execution_count": 103,
   "metadata": {},
   "outputs": [
    {
     "data": {
      "text/plain": [
       "((6500, 29), (3500, 29))"
      ]
     },
     "execution_count": 103,
     "metadata": {},
     "output_type": "execute_result"
    }
   ],
   "source": [
    "x_train=dummy_combine[:6500]\n",
    "x_test=dummy_combine[6500:]\n",
    "x_train.shape, x_test.shape"
   ]
  },
  {
   "cell_type": "code",
   "execution_count": 104,
   "metadata": {},
   "outputs": [],
   "source": [
    "yabs=y.abs()"
   ]
  },
  {
   "cell_type": "code",
   "execution_count": 105,
   "metadata": {},
   "outputs": [],
   "source": [
    "ynp=np.log1p(abs(y))"
   ]
  },
  {
   "cell_type": "code",
   "execution_count": 106,
   "metadata": {},
   "outputs": [
    {
     "data": {
      "text/plain": [
       "0       5.649995\n",
       "1       5.081156\n",
       "2       5.045294\n",
       "3       5.088584\n",
       "4       5.076610\n",
       "          ...   \n",
       "6495    6.772428\n",
       "6496    7.206392\n",
       "6497    5.873666\n",
       "6498    8.524864\n",
       "6499    6.584059\n",
       "Name: Cost, Length: 6500, dtype: float64"
      ]
     },
     "execution_count": 106,
     "metadata": {},
     "output_type": "execute_result"
    }
   ],
   "source": [
    "ynp"
   ]
  },
  {
   "cell_type": "code",
   "execution_count": 107,
   "metadata": {},
   "outputs": [
    {
     "data": {
      "text/plain": [
       "<AxesSubplot:xlabel='Cost'>"
      ]
     },
     "execution_count": 107,
     "metadata": {},
     "output_type": "execute_result"
    },
    {
     "data": {
      "image/png": "[encoded data removed]",
      "text/plain": [
       "<Figure size 432x288 with 1 Axes>"
      ]
     },
     "metadata": {
      "needs_background": "light"
     },
     "output_type": "display_data"
    }
   ],
   "source": [
    "sns.distplot(ynp, kde=True, hist=True, fit=norm)"
   ]
  },
  {
   "cell_type": "markdown",
   "metadata": {},
   "source": [
    "# Model Testing"
   ]
  },
  {
   "cell_type": "code",
   "execution_count": 108,
   "metadata": {},
   "outputs": [],
   "source": [
    "from sklearn.linear_model import LinearRegression\n",
    "from sklearn.ensemble import RandomForestRegressor\n",
    "from sklearn.ensemble import GradientBoostingRegressor\n",
    "from sklearn.ensemble import VotingRegressor\n",
    "from sklearn.ensemble import StackingRegressor\n",
    "from sklearn.ensemble import AdaBoostRegressor\n",
    "from sklearn.model_selection import KFold, cross_val_score, train_test_split\n",
    "from xgboost import XGBRegressor\n",
    "from lightgbm import LGBMRegressor\n",
    "from catboost import CatBoostRegressor"
   ]
  },
  {
   "cell_type": "markdown",
   "metadata": {},
   "source": [
    "# Training on whole data without scaling using Log value and then taking Exponent"
   ]
  },
  {
   "cell_type": "code",
   "execution_count": 110,
   "metadata": {},
   "outputs": [],
   "source": [
    "rf=RandomForestRegressor()\n",
    "rf.fit(x_train, ynp)\n",
    "y_test=pd.DataFrame(np.expm1(rf.predict(x_test)))\n",
    "fin=pd.concat([test['Customer Id'], y_test], axis=1)\n",
    "fin.columns=['Customer Id', 'Cost']\n",
    "fin.to_csv('rf.csv', index=False)\n",
    "# fin.min()\n",
    "# 91.77392 "
   ]
  },
  {
   "cell_type": "code",
   "execution_count": 111,
   "metadata": {},
   "outputs": [],
   "source": [
    "gbr=GradientBoostingRegressor()\n",
    "gbr.fit(x_train, ynp)\n",
    "y_test=pd.DataFrame(np.expm1(gbr.predict(x_test)))\n",
    "fin=pd.concat([test['Customer Id'], y_test], axis=1)\n",
    "fin.columns=['Customer Id', 'Cost']\n",
    "fin.to_csv('gbr.csv', index=False)\n",
    "# fin.min(), fin.max()\n",
    "# 88.79992"
   ]
  },
  {
   "cell_type": "code",
   "execution_count": 112,
   "metadata": {},
   "outputs": [],
   "source": [
    "xgb=XGBRegressor()\n",
    "xgb.fit(x_train, ynp)\n",
    "y_test=pd.DataFrame(np.expm1(xgb.predict(x_test)))\n",
    "fin=pd.concat([test['Customer Id'], y_test], axis=1)\n",
    "fin.columns=['Customer Id', 'Cost']\n",
    "fin.to_csv('xgb.csv', index=False)\n",
    "# fin.min(), fin.max()\n",
    "# 93.35467"
   ]
  },
  {
   "cell_type": "code",
   "execution_count": 113,
   "metadata": {},
   "outputs": [],
   "source": [
    "lgb=LGBMRegressor()\n",
    "lgb.fit(x_train, ynp)\n",
    "y_test=pd.DataFrame(np.expm1(lgb.predict(x_test)))\n",
    "fin=pd.concat([test['Customer Id'], y_test], axis=1)\n",
    "fin.columns=['Customer Id', 'Cost']\n",
    "fin.to_csv('lgb.csv', index=False)\n",
    "# fin.min(), fin.max()\n",
    "# 93.26303"
   ]
  },
  {
   "cell_type": "code",
   "execution_count": 114,
   "metadata": {},
   "outputs": [],
   "source": [
    "cat=CatBoostRegressor(logging_level='Silent')\n",
    "cat.fit(x_train, ynp)\n",
    "y_test=pd.DataFrame(np.expm1(cat.predict(x_test)))\n",
    "fin=pd.concat([test['Customer Id'], y_test], axis=1)\n",
    "fin.columns=['Customer Id', 'Cost']\n",
    "fin.to_csv('cat.csv', index=False)\n",
    "# fin.min(), fin.max()\n",
    "# 94.23855"
   ]
  },
  {
   "cell_type": "code",
   "execution_count": 115,
   "metadata": {},
   "outputs": [],
   "source": [
    "estimators=[('RF', RandomForestRegressor()), ('XGB', XGBRegressor()), ('LGB', LGBMRegressor()), ('GBR', GradientBoostingRegressor()), ('CAT', CatBoostRegressor(logging_level='Silent'))]\n",
    "vc=VotingRegressor(estimators=estimators)\n",
    "vc.fit(x_train, ynp)\n",
    "y_test=pd.DataFrame(np.expm1(vc.predict(x_test)))\n",
    "fin=pd.concat([test['Customer Id'], y_test], axis=1)\n",
    "fin.columns=['Customer Id', 'Cost']\n",
    "fin.to_csv('vc.csv', index=False)\n",
    "# fin.min(), fin.max()\n",
    "# 93.78955"
   ]
  },
  {
   "cell_type": "code",
   "execution_count": 118,
   "metadata": {},
   "outputs": [],
   "source": [
    "estimators=[('XGB', XGBRegressor()), ('LGB', LGBMRegressor()), ('CAT', CatBoostRegressor(logging_level='Silent'))]\n",
    "vc=VotingRegressor(estimators=estimators)\n",
    "vc.fit(x_train, ynp)\n",
    "y_test=pd.DataFrame(np.expm1(vc.predict(x_test)))\n",
    "fin=pd.concat([test['Customer Id'], y_test], axis=1)\n",
    "fin.columns=['Customer Id', 'Cost']\n",
    "fin.to_csv('vc1.csv', index=False)\n",
    "# fin.min(), fin.max()\n",
    "# 94.48455"
   ]
  },
  {
   "cell_type": "code",
   "execution_count": 116,
   "metadata": {},
   "outputs": [],
   "source": [
    "estimators=[('RF', RandomForestRegressor()), ('XGB', XGBRegressor()), ('LGB', LGBMRegressor()), ('CAT', CatBoostRegressor(logging_level='Silent'))]\n",
    "st=StackingRegressor(estimators=estimators, final_estimator=CatBoostRegressor(logging_level='Silent'))\n",
    "st.fit(x_train, ynp)\n",
    "y_test=pd.DataFrame(np.expm1(st.predict(x_test)))\n",
    "fin=pd.concat([test['Customer Id'], y_test], axis=1)\n",
    "fin.columns=['Customer Id', 'Cost']\n",
    "fin.to_csv('st.csv', index=False)\n",
    "# fin.min(), fin.max()\n",
    "# 93.89637"
   ]
  },
  {
   "cell_type": "code",
   "execution_count": 119,
   "metadata": {},
   "outputs": [],
   "source": [
    "estimators=[('XGB', XGBRegressor()), ('LGB', LGBMRegressor()), ('CAT', CatBoostRegressor(logging_level='Silent'))]\n",
    "st=StackingRegressor(estimators=estimators, final_estimator=CatBoostRegressor(logging_level='Silent'))\n",
    "st.fit(x_train, ynp)\n",
    "y_test=pd.DataFrame(np.expm1(st.predict(x_test)))\n",
    "fin=pd.concat([test['Customer Id'], y_test], axis=1)\n",
    "fin.columns=['Customer Id', 'Cost']\n",
    "fin.to_csv('st1.csv', index=False)\n",
    "# fin.min(), fin.max()\n",
    "# 93.94610"
   ]
  },
  {
   "cell_type": "code",
   "execution_count": 120,
   "metadata": {},
   "outputs": [],
   "source": [
    "estimators=[('XGB', XGBRegressor()), ('LGB', LGBMRegressor()), ('CAT', CatBoostRegressor(logging_level='Silent'))]\n",
    "st=StackingRegressor(estimators=estimators, final_estimator=RandomForestRegressor())\n",
    "st.fit(x_train, ynp)\n",
    "y_test=pd.DataFrame(np.expm1(st.predict(x_test)))\n",
    "fin=pd.concat([test['Customer Id'], y_test], axis=1)\n",
    "fin.columns=['Customer Id', 'Cost']\n",
    "fin.to_csv('st2.csv', index=False)\n",
    "# fin.min(), fin.max()\n",
    "# 93.58970"
   ]
  },
  {
   "cell_type": "code",
   "execution_count": 121,
   "metadata": {},
   "outputs": [],
   "source": [
    "estimators=[('XGB', XGBRegressor()), ('LGB', LGBMRegressor()), ('CAT', CatBoostRegressor(logging_level='Silent'))]\n",
    "st=StackingRegressor(estimators=estimators, final_estimator=XGBRegressor())\n",
    "st.fit(x_train, ynp)\n",
    "y_test=pd.DataFrame(np.expm1(st.predict(x_test)))\n",
    "fin=pd.concat([test['Customer Id'], y_test], axis=1)\n",
    "fin.columns=['Customer Id', 'Cost']\n",
    "fin.to_csv('st3.csv', index=False)\n",
    "# fin.min(), fin.max()\n",
    "# 93.46539"
   ]
  },
  {
   "cell_type": "markdown",
   "metadata": {},
   "source": [
    "# Training on whole data after scaling using Log value and then taking Exponent"
   ]
  },
  {
   "cell_type": "code",
   "execution_count": 122,
   "metadata": {},
   "outputs": [],
   "source": [
    "from sklearn.preprocessing import StandardScaler\n",
    "sc=StandardScaler()\n",
    "x_sc_train=sc.fit_transform(x_train)\n",
    "x_sc_test=sc.transform(x_test)"
   ]
  },
  {
   "cell_type": "code",
   "execution_count": 123,
   "metadata": {},
   "outputs": [],
   "source": [
    "rf=RandomForestRegressor()\n",
    "rf.fit(x_sc_train, ynp)\n",
    "y_test=pd.DataFrame(np.expm1(rf.predict(x_sc_test)))\n",
    "fin=pd.concat([test['Customer Id'], y_test], axis=1)\n",
    "fin.columns=['Customer Id', 'Cost']\n",
    "fin.to_csv('rfsc.csv', index=False)\n",
    "# fin.min()\n",
    "# 91.87680"
   ]
  },
  {
   "cell_type": "code",
   "execution_count": 124,
   "metadata": {},
   "outputs": [],
   "source": [
    "gbr=GradientBoostingRegressor()\n",
    "gbr.fit(x_sc_train, ynp)\n",
    "y_test=pd.DataFrame(np.expm1(gbr.predict(x_sc_test)))\n",
    "fin=pd.concat([test['Customer Id'], y_test], axis=1)\n",
    "fin.columns=['Customer Id', 'Cost']\n",
    "fin.to_csv('gbrsc.csv', index=False)\n",
    "# fin.min(), fin.max()\n",
    "# 88.81242"
   ]
  },
  {
   "cell_type": "code",
   "execution_count": 125,
   "metadata": {},
   "outputs": [],
   "source": [
    "xgb=XGBRegressor()\n",
    "xgb.fit(x_sc_train, ynp)\n",
    "y_test=pd.DataFrame(np.expm1(xgb.predict(x_sc_test)))\n",
    "fin=pd.concat([test['Customer Id'], y_test], axis=1)\n",
    "fin.columns=['Customer Id', 'Cost']\n",
    "fin.to_csv('xgbsc.csv', index=False)\n",
    "# fin.min(), fin.max()\n",
    "# 93.34781"
   ]
  },
  {
   "cell_type": "code",
   "execution_count": 126,
   "metadata": {},
   "outputs": [],
   "source": [
    "lgb=LGBMRegressor()\n",
    "lgb.fit(x_sc_train, ynp)\n",
    "y_test=pd.DataFrame(np.expm1(lgb.predict(x_sc_test)))\n",
    "fin=pd.concat([test['Customer Id'], y_test], axis=1)\n",
    "fin.columns=['Customer Id', 'Cost']\n",
    "fin.to_csv('lgbsc.csv', index=False)\n",
    "# fin.min(), fin.max()\n",
    "# 92.60104"
   ]
  },
  {
   "cell_type": "code",
   "execution_count": 127,
   "metadata": {},
   "outputs": [],
   "source": [
    "cat=CatBoostRegressor(logging_level='Silent')\n",
    "cat.fit(x_sc_train, ynp)\n",
    "y_test=pd.DataFrame(np.expm1(cat.predict(x_sc_test)))\n",
    "fin=pd.concat([test['Customer Id'], y_test], axis=1)\n",
    "fin.columns=['Customer Id', 'Cost']\n",
    "fin.to_csv('catsc.csv', index=False)\n",
    "# fin.min(), fin.max()\n",
    "# 94.24715"
   ]
  },
  {
   "cell_type": "code",
   "execution_count": 128,
   "metadata": {},
   "outputs": [],
   "source": [
    "estimators=[('RF', RandomForestRegressor()), ('XGB', XGBRegressor()), ('LGB', LGBMRegressor()), ('GBR', GradientBoostingRegressor()), ('CAT', CatBoostRegressor(logging_level='Silent'))]\n",
    "vc=VotingRegressor(estimators=estimators)\n",
    "vc.fit(x_sc_train, ynp)\n",
    "y_test=pd.DataFrame(np.expm1(vc.predict(x_sc_test)))\n",
    "fin=pd.concat([test['Customer Id'], y_test], axis=1)\n",
    "fin.columns=['Customer Id', 'Cost']\n",
    "fin.to_csv('vcsc.csv', index=False)\n",
    "# fin.min(), fin.max()\n",
    "# 93.67053"
   ]
  },
  {
   "cell_type": "code",
   "execution_count": 130,
   "metadata": {},
   "outputs": [],
   "source": [
    "estimators=[('XGB', XGBRegressor()), ('LGB', LGBMRegressor()), ('CAT', CatBoostRegressor(logging_level='Silent'))]\n",
    "vc=VotingRegressor(estimators=estimators)\n",
    "vc.fit(x_sc_train, ynp)\n",
    "y_test=pd.DataFrame(np.expm1(vc.predict(x_sc_test)))\n",
    "fin=pd.concat([test['Customer Id'], y_test], axis=1)\n",
    "fin.columns=['Customer Id', 'Cost']\n",
    "fin.to_csv('vcsc1.csv', index=False)\n",
    "# fin.min(), fin.max()\n",
    "# 94.24672"
   ]
  },
  {
   "cell_type": "code",
   "execution_count": 129,
   "metadata": {},
   "outputs": [],
   "source": [
    "estimators=[('RF', RandomForestRegressor()), ('XGB', XGBRegressor()), ('LGB', LGBMRegressor()), ('CAT', CatBoostRegressor(logging_level='Silent'))]\n",
    "st=StackingRegressor(estimators=estimators, final_estimator=CatBoostRegressor(logging_level='Silent'))\n",
    "st.fit(x_sc_train, ynp)\n",
    "y_test=pd.DataFrame(np.expm1(st.predict(x_sc_test)))\n",
    "fin=pd.concat([test['Customer Id'], y_test], axis=1)\n",
    "fin.columns=['Customer Id', 'Cost']\n",
    "fin.to_csv('stsc.csv', index=False)\n",
    "# fin.min(), fin.max()\n",
    "# 93.92679"
   ]
  },
  {
   "cell_type": "code",
   "execution_count": 131,
   "metadata": {},
   "outputs": [],
   "source": [
    "estimators=[ ('XGB', XGBRegressor()), ('LGB', LGBMRegressor()), ('CAT', CatBoostRegressor(logging_level='Silent'))]\n",
    "st=StackingRegressor(estimators=estimators, final_estimator=CatBoostRegressor(logging_level='Silent'))\n",
    "st.fit(x_sc_train, ynp)\n",
    "y_test=pd.DataFrame(np.expm1(st.predict(x_sc_test)))\n",
    "fin=pd.concat([test['Customer Id'], y_test], axis=1)\n",
    "fin.columns=['Customer Id', 'Cost']\n",
    "fin.to_csv('stsc1.csv', index=False)\n",
    "# fin.min(), fin.max()\n",
    "# 93.62576"
   ]
  },
  {
   "cell_type": "markdown",
   "metadata": {},
   "source": [
    "# Hyperparameter tuning"
   ]
  },
  {
   "cell_type": "code",
   "execution_count": 49,
   "metadata": {},
   "outputs": [],
   "source": [
    "from sklearn.model_selection import GridSearchCV"
   ]
  },
  {
   "cell_type": "markdown",
   "metadata": {},
   "source": [
    "# After tuning on scaled data"
   ]
  },
  {
   "cell_type": "code",
   "execution_count": 132,
   "metadata": {},
   "outputs": [],
   "source": [
    "cat=CatBoostRegressor(iterations=1000, learning_rate=0.03, l2_leaf_reg=3.0, depth=16, grow_policy='Lossguide', loss_function='RMSE', logging_level='Silent')\n",
    "cat.fit(x_sc_train, ynp)\n",
    "y_test=pd.DataFrame(np.expm1(cat.predict(x_sc_test)))\n",
    "fin=pd.concat([test['Customer Id'], y_test], axis=1)\n",
    "fin.columns=['Customer Id', 'Cost']\n",
    "fin.to_csv('catt12.csv', index=False)\n",
    "# 93.76\n",
    "# {'depth': 16,\n",
    "#  'grow_policy': 'Lossguide',\n",
    "#  'iterations': 1000,\n",
    "#  'l2_leaf_reg': 3.0,\n",
    "#  'learning_rate': 0.03}"
   ]
  },
  {
   "cell_type": "code",
   "execution_count": 133,
   "metadata": {},
   "outputs": [],
   "source": [
    "cat=CatBoostRegressor(iterations=1000, learning_rate=0.03, l2_leaf_reg=1.0, depth=6, grow_policy='SymmetricTree', loss_function='RMSE', logging_level='Silent')\n",
    "cat.fit(x_sc_train, ynp)\n",
    "y_test=pd.DataFrame(np.expm1(cat.predict(x_sc_test)))\n",
    "fin=pd.concat([test['Customer Id'], y_test], axis=1)\n",
    "fin.columns=['Customer Id', 'Cost']\n",
    "fin.to_csv('catt22.csv', index=False)\n",
    "# 93.86\n",
    "# {'depth': 6,\n",
    "#  'grow_policy': 'SymmetricTree',\n",
    "#  'iterations': 1000,\n",
    "#  'l2_leaf_reg': 1.0,\n",
    "#  'learning_rate': 0.03}"
   ]
  },
  {
   "cell_type": "code",
   "execution_count": 134,
   "metadata": {},
   "outputs": [],
   "source": [
    "cat=CatBoostRegressor(iterations=5000, learning_rate=0.01, l2_leaf_reg=5.0, depth=10, grow_policy='Lossguide', loss_function='RMSE', logging_level='Silent')\n",
    "cat.fit(x_sc_train, ynp)\n",
    "y_test=pd.DataFrame(np.expm1(cat.predict(x_sc_test)))\n",
    "fin=pd.concat([test['Customer Id'], y_test], axis=1)\n",
    "fin.columns=['Customer Id', 'Cost']\n",
    "fin.to_csv('catt32.csv', index=False)\n",
    "# 94.28100\n",
    "# {'depth': 10,\n",
    "#  'grow_policy': 'Lossguide',\n",
    "#  'iterations': 5000,\n",
    "#  'l2_leaf_reg': 5.0,\n",
    "#  'learning_rate': 0.01}"
   ]
  },
  {
   "cell_type": "code",
   "execution_count": 135,
   "metadata": {},
   "outputs": [],
   "source": [
    "cat=CatBoostRegressor(iterations=5000, learning_rate=0.02, l2_leaf_reg=1.0, depth=6, grow_policy='SymmetricTree', loss_function='RMSE', logging_level='Silent')\n",
    "cat.fit(x_sc_train, ynp)\n",
    "y_test=pd.DataFrame(np.expm1(cat.predict(x_sc_test)))\n",
    "fin=pd.concat([test['Customer Id'], y_test], axis=1)\n",
    "fin.columns=['Customer Id', 'Cost']\n",
    "fin.to_csv('catt42.csv', index=False)\n",
    "# 94.43270\n",
    "# {'depth': 6,\n",
    "#  'grow_policy': 'SymmetricTree',\n",
    "#  'iterations': 5000,\n",
    "#  'l2_leaf_reg': 1.0,\n",
    "#  'learning_rate': 0.02}"
   ]
  },
  {
   "cell_type": "code",
   "execution_count": 136,
   "metadata": {},
   "outputs": [
    {
     "data": {
      "text/plain": [
       "(Customer Id    fffe3100\n",
       " Cost            93.2086\n",
       " dtype: object,\n",
       " Customer Id    fffe3900390039003700\n",
       " Cost                     4.3494e+06\n",
       " dtype: object)"
      ]
     },
     "execution_count": 136,
     "metadata": {},
     "output_type": "execute_result"
    }
   ],
   "source": [
    "cat=CatBoostRegressor(logging_level='Silent')\n",
    "cat.fit(x_sc_train, ynp)\n",
    "y_test=pd.DataFrame(np.expm1(cat.predict(x_sc_test)))\n",
    "fin=pd.concat([test['Customer Id'], y_test], axis=1)\n",
    "fin.columns=['Customer Id', 'Cost']\n",
    "fin.to_csv('catmp.csv', index=False)\n",
    "# fin.min(), fin.max()\n",
    "# 93.96193"
   ]
  },
  {
   "cell_type": "code",
   "execution_count": 137,
   "metadata": {},
   "outputs": [],
   "source": [
    "rf=RandomForestRegressor(max_depth=50, max_features=15, min_samples_split=2, n_estimators=5000)\n",
    "rf.fit(x_sc_train, ynp)\n",
    "y_test=pd.DataFrame(np.expm1(rf.predict(x_sc_test)))\n",
    "fin=pd.concat([test['Customer Id'], y_test], axis=1)\n",
    "fin.columns=['Customer Id', 'Cost']\n",
    "fin.to_csv('rft.csv', index=False)\n",
    "# fin.min()\n",
    "# {'max_depth': 50,\n",
    "#  'max_features': 15,\n",
    "#  'min_samples_split': 2,\n",
    "#  'n_estimators': 5000}\n",
    "# 91.20002"
   ]
  },
  {
   "cell_type": "code",
   "execution_count": 138,
   "metadata": {},
   "outputs": [],
   "source": [
    "xgb=XGBRegressor(gamma=0, learning_rate=0.2, max_depth=6, min_child_weight=5, red_lambda=1, sampling_method='uniform')\n",
    "xgb.fit(x_train, ynp)\n",
    "y_test=pd.DataFrame(np.expm1(xgb.predict(x_test)))\n",
    "fin=pd.concat([test['Customer Id'], y_test], axis=1)\n",
    "fin.columns=['Customer Id', 'Cost']\n",
    "fin.to_csv('xgbt.csv', index=False)\n",
    "# fin.min(), fin.max()\n",
    "# {'gamma': 0,\n",
    "#  'learning_rate': 0.2,\n",
    "#  'max_depth': 6,\n",
    "#  'min_child_weight': 5,\n",
    "#  'red_lambda': 1,\n",
    "#  'sampling_method': 'uniform'}\n",
    "# 93.95173"
   ]
  },
  {
   "cell_type": "code",
   "execution_count": 140,
   "metadata": {},
   "outputs": [],
   "source": [
    "estimators=[('RF', RandomForestRegressor()), ('XGB', XGBRegressor()), ('LGB', LGBMRegressor()), ('GBR', GradientBoostingRegressor()), ('CAT', CatBoostRegressor(iterations=5000, learning_rate=0.02, l2_leaf_reg=1.0, depth=6, grow_policy='SymmetricTree', loss_function='RMSE', logging_level='Silent'))]\n",
    "vc=VotingRegressor(estimators=estimators)\n",
    "vc.fit(x_sc_train, ynp)\n",
    "y_test=pd.DataFrame(np.expm1(vc.predict(x_sc_test)))\n",
    "fin=pd.concat([test['Customer Id'], y_test], axis=1)\n",
    "fin.columns=['Customer Id', 'Cost']\n",
    "fin.to_csv('vct.csv', index=False)\n",
    "# 93.72209"
   ]
  },
  {
   "cell_type": "code",
   "execution_count": 141,
   "metadata": {},
   "outputs": [],
   "source": [
    "estimators=[('RF', RandomForestRegressor()), ('XGB', XGBRegressor()), ('LGB', LGBMRegressor()), ('CAT', CatBoostRegressor(iterations=5000, learning_rate=0.02, l2_leaf_reg=1.0, depth=6, grow_policy='SymmetricTree', loss_function='RMSE', logging_level='Silent'))]\n",
    "st=StackingRegressor(estimators=estimators, final_estimator=CatBoostRegressor(logging_level='Silent'))\n",
    "st.fit(x_sc_train, ynp)\n",
    "y_test=pd.DataFrame(np.expm1(st.predict(x_sc_test)))\n",
    "fin=pd.concat([test['Customer Id'], y_test], axis=1)\n",
    "fin.columns=['Customer Id', 'Cost']\n",
    "fin.to_csv('stt.csv', index=False)\n",
    "# 94.06732"
   ]
  },
  {
   "cell_type": "code",
   "execution_count": 142,
   "metadata": {},
   "outputs": [],
   "source": [
    "estimators=[('RF', RandomForestRegressor(max_depth=50, max_features=15, min_samples_split=2, n_estimators=5000)), ('XGB', XGBRegressor(gamma=0, learning_rate=0.2, max_depth=6, min_child_weight=5, red_lambda=1, sampling_method='uniform')), ('LGB', LGBMRegressor()), ('GBR', GradientBoostingRegressor()), ('CAT', CatBoostRegressor(iterations=5000, learning_rate=0.02, l2_leaf_reg=1.0, depth=6, grow_policy='SymmetricTree', loss_function='RMSE', logging_level='Silent'))]\n",
    "vc=VotingRegressor(estimators=estimators)\n",
    "vc.fit(x_sc_train, ynp)\n",
    "y_test=pd.DataFrame(np.expm1(vc.predict(x_sc_test)))\n",
    "fin=pd.concat([test['Customer Id'], y_test], axis=1)\n",
    "fin.columns=['Customer Id', 'Cost']\n",
    "fin.to_csv('vct1.csv', index=False)\n",
    "# 93.50172"
   ]
  },
  {
   "cell_type": "code",
   "execution_count": 143,
   "metadata": {},
   "outputs": [],
   "source": [
    "estimators=[('RF', RandomForestRegressor(max_depth=50, max_features=15, min_samples_split=2, n_estimators=5000)), ('XGB', XGBRegressor(gamma=0, learning_rate=0.2, max_depth=6, min_child_weight=5, red_lambda=1, sampling_method='uniform')), ('CAT', CatBoostRegressor(iterations=5000, learning_rate=0.02, l2_leaf_reg=1.0, depth=6, grow_policy='SymmetricTree', loss_function='RMSE', logging_level='Silent'))]\n",
    "vc=VotingRegressor(estimators=estimators)\n",
    "vc.fit(x_sc_train, ynp)\n",
    "y_test=pd.DataFrame(np.expm1(vc.predict(x_sc_test)))\n",
    "fin=pd.concat([test['Customer Id'], y_test], axis=1)\n",
    "fin.columns=['Customer Id', 'Cost']\n",
    "fin.to_csv('vct2.csv', index=False)\n",
    "# 94.23489"
   ]
  },
  {
   "cell_type": "code",
   "execution_count": 144,
   "metadata": {},
   "outputs": [],
   "source": [
    "estimators=[('RF', RandomForestRegressor(max_depth=50, max_features=15, min_samples_split=2, n_estimators=5000)), ('XGB', XGBRegressor(gamma=0, learning_rate=0.2, max_depth=6, min_child_weight=5, red_lambda=1, sampling_method='uniform')), ('LGB', LGBMRegressor()), ('CAT', CatBoostRegressor(iterations=5000, learning_rate=0.02, l2_leaf_reg=1.0, depth=6, grow_policy='SymmetricTree', loss_function='RMSE', logging_level='Silent'))]\n",
    "st=StackingRegressor(estimators=estimators, final_estimator=CatBoostRegressor(logging_level='Silent'))\n",
    "st.fit(x_sc_train, ynp)\n",
    "y_test=pd.DataFrame(np.expm1(st.predict(x_sc_test)))\n",
    "fin=pd.concat([test['Customer Id'], y_test], axis=1)\n",
    "fin.columns=['Customer Id', 'Cost']\n",
    "fin.to_csv('stt1.csv', index=False)\n",
    "# 93.87976"
   ]
  },
  {
   "cell_type": "code",
   "execution_count": 145,
   "metadata": {},
   "outputs": [],
   "source": [
    "estimators=[('RF', RandomForestRegressor(max_depth=50, max_features=15, min_samples_split=2, n_estimators=5000)), ('XGB', XGBRegressor(gamma=0, learning_rate=0.2, max_depth=6, min_child_weight=5, red_lambda=1, sampling_method='uniform')), ('LGB', LGBMRegressor()), ('CAT', CatBoostRegressor(iterations=5000, learning_rate=0.02, l2_leaf_reg=1.0, depth=6, grow_policy='SymmetricTree', loss_function='RMSE', logging_level='Silent'))]\n",
    "st=StackingRegressor(estimators=estimators, final_estimator=CatBoostRegressor(iterations=5000, learning_rate=0.02, l2_leaf_reg=1.0, depth=6, grow_policy='SymmetricTree', loss_function='RMSE',logging_level='Silent'))\n",
    "st.fit(x_sc_train, ynp)\n",
    "y_test=pd.DataFrame(np.expm1(st.predict(x_sc_test)))\n",
    "fin=pd.concat([test['Customer Id'], y_test], axis=1)\n",
    "fin.columns=['Customer Id', 'Cost']\n",
    "fin.to_csv('stt2.csv', index=False)\n",
    "# 93.05716"
   ]
  },
  {
   "cell_type": "code",
   "execution_count": 146,
   "metadata": {},
   "outputs": [],
   "source": [
    "estimators=[('RF', RandomForestRegressor(max_depth=50, max_features=15, min_samples_split=2, n_estimators=5000)), ('XGB', XGBRegressor(gamma=0, learning_rate=0.2, max_depth=6, min_child_weight=5, red_lambda=1, sampling_method='uniform')), ('LGB', LGBMRegressor()), ('GBR', GradientBoostingRegressor()), ('CAT', CatBoostRegressor(iterations=5000, learning_rate=0.02, l2_leaf_reg=1.0, depth=6, grow_policy='SymmetricTree', loss_function='RMSE', logging_level='Silent'))]\n",
    "st=StackingRegressor(estimators=estimators, final_estimator=CatBoostRegressor(iterations=5000, learning_rate=0.02, l2_leaf_reg=1.0, depth=6, grow_policy='SymmetricTree', loss_function='RMSE',logging_level='Silent'))\n",
    "st.fit(x_sc_train, ynp)\n",
    "y_test=pd.DataFrame(np.expm1(st.predict(x_sc_test)))\n",
    "fin=pd.concat([test['Customer Id'], y_test], axis=1)\n",
    "fin.columns=['Customer Id', 'Cost']\n",
    "fin.to_csv('stt3.csv', index=False)\n",
    "# 93.16301"
   ]
  },
  {
   "cell_type": "code",
   "execution_count": 147,
   "metadata": {},
   "outputs": [],
   "source": [
    "estimators=[('RF', RandomForestRegressor(max_depth=50, max_features=15, min_samples_split=2, n_estimators=5000)), ('XGB', XGBRegressor(gamma=0, learning_rate=0.2, max_depth=6, min_child_weight=5, red_lambda=1, sampling_method='uniform')), ('CAT', CatBoostRegressor(iterations=5000, learning_rate=0.02, l2_leaf_reg=1.0, depth=6, grow_policy='SymmetricTree', loss_function='RMSE', logging_level='Silent'))]\n",
    "st=StackingRegressor(estimators=estimators, final_estimator=CatBoostRegressor(iterations=5000, learning_rate=0.02, l2_leaf_reg=1.0, depth=6, grow_policy='SymmetricTree', loss_function='RMSE',logging_level='Silent'))\n",
    "st.fit(x_sc_train, ynp)\n",
    "y_test=pd.DataFrame(np.expm1(st.predict(x_sc_test)))\n",
    "fin=pd.concat([test['Customer Id'], y_test], axis=1)\n",
    "fin.columns=['Customer Id', 'Cost']\n",
    "fin.to_csv('stt4.csv', index=False)\n",
    "# 93.73211"
   ]
  },
  {
   "cell_type": "code",
   "execution_count": null,
   "metadata": {},
   "outputs": [],
   "source": []
  },
  {
   "cell_type": "code",
   "execution_count": 148,
   "metadata": {},
   "outputs": [],
   "source": [
    "cat=CatBoostRegressor(iterations=1000, learning_rate=0.03, l2_leaf_reg=3.0, depth=16, grow_policy='Lossguide', loss_function='RMSE', logging_level='Silent')\n",
    "cat.fit(x_train, ynp)\n",
    "y_test=pd.DataFrame(np.expm1(cat.predict(x_test)))\n",
    "fin=pd.concat([test['Customer Id'], y_test], axis=1)\n",
    "fin.columns=['Customer Id', 'Cost']\n",
    "fin.to_csv('catt12.csv', index=False)\n",
    "# 93.76185\n",
    "# {'depth': 16,\n",
    "#  'grow_policy': 'Lossguide',\n",
    "#  'iterations': 1000,\n",
    "#  'l2_leaf_reg': 3.0,\n",
    "#  'learning_rate': 0.03}"
   ]
  },
  {
   "cell_type": "code",
   "execution_count": 149,
   "metadata": {},
   "outputs": [],
   "source": [
    "cat=CatBoostRegressor(iterations=1000, learning_rate=0.03, l2_leaf_reg=1.0, depth=6, grow_policy='SymmetricTree', loss_function='RMSE', logging_level='Silent')\n",
    "cat.fit(x_train, ynp)\n",
    "y_test=pd.DataFrame(np.expm1(cat.predict(x_test)))\n",
    "fin=pd.concat([test['Customer Id'], y_test], axis=1)\n",
    "fin.columns=['Customer Id', 'Cost']\n",
    "fin.to_csv('catt22.csv', index=False)\n",
    "# 93.85624\n",
    "# {'depth': 6,\n",
    "#  'grow_policy': 'SymmetricTree',\n",
    "#  'iterations': 1000,\n",
    "#  'l2_leaf_reg': 1.0,\n",
    "#  'learning_rate': 0.03}"
   ]
  },
  {
   "cell_type": "code",
   "execution_count": 150,
   "metadata": {},
   "outputs": [],
   "source": [
    "cat=CatBoostRegressor(iterations=5000, learning_rate=0.01, l2_leaf_reg=5.0, depth=10, grow_policy='Lossguide', loss_function='RMSE', logging_level='Silent')\n",
    "cat.fit(x_train, ynp)\n",
    "y_test=pd.DataFrame(np.expm1(cat.predict(x_test)))\n",
    "fin=pd.concat([test['Customer Id'], y_test], axis=1)\n",
    "fin.columns=['Customer Id', 'Cost']\n",
    "fin.to_csv('catt32.csv', index=False)\n",
    "# 94.26864\n",
    "# {'depth': 10,\n",
    "#  'grow_policy': 'Lossguide',\n",
    "#  'iterations': 5000,\n",
    "#  'l2_leaf_reg': 5.0,\n",
    "#  'learning_rate': 0.01}"
   ]
  },
  {
   "cell_type": "code",
   "execution_count": 151,
   "metadata": {},
   "outputs": [],
   "source": [
    "cat=CatBoostRegressor(iterations=5000, learning_rate=0.02, l2_leaf_reg=1.0, depth=6, grow_policy='SymmetricTree', loss_function='RMSE', logging_level='Silent')\n",
    "cat.fit(x_train, ynp)\n",
    "y_test=pd.DataFrame(np.expm1(cat.predict(x_test)))\n",
    "fin=pd.concat([test['Customer Id'], y_test], axis=1)\n",
    "fin.columns=['Customer Id', 'Cost']\n",
    "fin.to_csv('catt42.csv', index=False)\n",
    "# 94.43065\n",
    "# {'depth': 6,\n",
    "#  'grow_policy': 'SymmetricTree',\n",
    "#  'iterations': 5000,\n",
    "#  'l2_leaf_reg': 1.0,\n",
    "#  'learning_rate': 0.02}"
   ]
  },
  {
   "cell_type": "code",
   "execution_count": 152,
   "metadata": {},
   "outputs": [],
   "source": [
    "rf=RandomForestRegressor(max_depth=50, max_features=15, min_samples_split=2, n_estimators=5000)\n",
    "rf.fit(x_train, ynp)\n",
    "y_test=pd.DataFrame(np.expm1(rf.predict(x_test)))\n",
    "fin=pd.concat([test['Customer Id'], y_test], axis=1)\n",
    "fin.columns=['Customer Id', 'Cost']\n",
    "fin.to_csv('rft.csv', index=False)\n",
    "# fin.min()\n",
    "# {'max_depth': 50,\n",
    "#  'max_features': 15,\n",
    "#  'min_samples_split': 2,\n",
    "#  'n_estimators': 5000}\n",
    "# 91.19951"
   ]
  },
  {
   "cell_type": "code",
   "execution_count": 138,
   "metadata": {},
   "outputs": [],
   "source": [
    "xgb=XGBRegressor(gamma=0, learning_rate=0.2, max_depth=6, min_child_weight=5, red_lambda=1, sampling_method='uniform')\n",
    "xgb.fit(x_train, ynp)\n",
    "y_test=pd.DataFrame(np.expm1(xgb.predict(x_test)))\n",
    "fin=pd.concat([test['Customer Id'], y_test], axis=1)\n",
    "fin.columns=['Customer Id', 'Cost']\n",
    "fin.to_csv('xgbt.csv', index=False)\n",
    "# fin.min(), fin.max()\n",
    "# {'gamma': 0,\n",
    "#  'learning_rate': 0.2,\n",
    "#  'max_depth': 6,\n",
    "#  'min_child_weight': 5,\n",
    "#  'red_lambda': 1,\n",
    "#  'sampling_method': 'uniform'}\n",
    "# 93.95173"
   ]
  },
  {
   "cell_type": "code",
   "execution_count": 153,
   "metadata": {},
   "outputs": [],
   "source": [
    "estimators=[('RF', RandomForestRegressor()), ('XGB', XGBRegressor()), ('LGB', LGBMRegressor()), ('GBR', GradientBoostingRegressor()), ('CAT', CatBoostRegressor(iterations=5000, learning_rate=0.02, l2_leaf_reg=1.0, depth=6, grow_policy='SymmetricTree', loss_function='RMSE', logging_level='Silent'))]\n",
    "vc=VotingRegressor(estimators=estimators)\n",
    "vc.fit(x_train, ynp)\n",
    "y_test=pd.DataFrame(np.expm1(vc.predict(x_test)))\n",
    "fin=pd.concat([test['Customer Id'], y_test], axis=1)\n",
    "fin.columns=['Customer Id', 'Cost']\n",
    "fin.to_csv('vct.csv', index=False)\n",
    "# 93.85724"
   ]
  },
  {
   "cell_type": "code",
   "execution_count": 154,
   "metadata": {},
   "outputs": [],
   "source": [
    "estimators=[('RF', RandomForestRegressor()), ('XGB', XGBRegressor()), ('LGB', LGBMRegressor()), ('CAT', CatBoostRegressor(iterations=5000, learning_rate=0.02, l2_leaf_reg=1.0, depth=6, grow_policy='SymmetricTree', loss_function='RMSE', logging_level='Silent'))]\n",
    "st=StackingRegressor(estimators=estimators, final_estimator=CatBoostRegressor(logging_level='Silent'))\n",
    "st.fit(x_train, ynp)\n",
    "y_test=pd.DataFrame(np.expm1(st.predict(x_test)))\n",
    "fin=pd.concat([test['Customer Id'], y_test], axis=1)\n",
    "fin.columns=['Customer Id', 'Cost']\n",
    "fin.to_csv('stt.csv', index=False)\n",
    "# 94.05108"
   ]
  },
  {
   "cell_type": "code",
   "execution_count": 155,
   "metadata": {},
   "outputs": [],
   "source": [
    "estimators=[('RF', RandomForestRegressor(max_depth=50, max_features=15, min_samples_split=2, n_estimators=5000)), ('XGB', XGBRegressor(gamma=0, learning_rate=0.2, max_depth=6, min_child_weight=5, red_lambda=1, sampling_method='uniform')), ('LGB', LGBMRegressor()), ('GBR', GradientBoostingRegressor()), ('CAT', CatBoostRegressor(iterations=5000, learning_rate=0.02, l2_leaf_reg=1.0, depth=6, grow_policy='SymmetricTree', loss_function='RMSE', logging_level='Silent'))]\n",
    "vc=VotingRegressor(estimators=estimators)\n",
    "vc.fit(x_train, ynp)\n",
    "y_test=pd.DataFrame(np.expm1(vc.predict(x_test)))\n",
    "fin=pd.concat([test['Customer Id'], y_test], axis=1)\n",
    "fin.columns=['Customer Id', 'Cost']\n",
    "fin.to_csv('vct1.csv', index=False)\n",
    "# 93.62748"
   ]
  },
  {
   "cell_type": "code",
   "execution_count": 156,
   "metadata": {},
   "outputs": [],
   "source": [
    "estimators=[('RF', RandomForestRegressor(max_depth=50, max_features=15, min_samples_split=2, n_estimators=5000)), ('XGB', XGBRegressor(gamma=0, learning_rate=0.2, max_depth=6, min_child_weight=5, red_lambda=1, sampling_method='uniform')), ('CAT', CatBoostRegressor(iterations=5000, learning_rate=0.02, l2_leaf_reg=1.0, depth=6, grow_policy='SymmetricTree', loss_function='RMSE', logging_level='Silent'))]\n",
    "vc=VotingRegressor(estimators=estimators)\n",
    "vc.fit(x_train, ynp)\n",
    "y_test=pd.DataFrame(np.expm1(vc.predict(x_test)))\n",
    "fin=pd.concat([test['Customer Id'], y_test], axis=1)\n",
    "fin.columns=['Customer Id', 'Cost']\n",
    "fin.to_csv('vct2.csv', index=False)\n",
    "# 94.23659"
   ]
  },
  {
   "cell_type": "code",
   "execution_count": 157,
   "metadata": {},
   "outputs": [],
   "source": [
    "estimators=[ ('LGB', LGBMRegressor()), ('XGB', XGBRegressor(gamma=0, learning_rate=0.2, max_depth=6, min_child_weight=5, red_lambda=1, sampling_method='uniform')), ('CAT', CatBoostRegressor(iterations=5000, learning_rate=0.02, l2_leaf_reg=1.0, depth=6, grow_policy='SymmetricTree', loss_function='RMSE', logging_level='Silent'))]\n",
    "vc=VotingRegressor(estimators=estimators)\n",
    "vc.fit(x_train, ynp)\n",
    "y_test=pd.DataFrame(np.expm1(vc.predict(x_test)))\n",
    "fin=pd.concat([test['Customer Id'], y_test], axis=1)\n",
    "fin.columns=['Customer Id', 'Cost']\n",
    "fin.to_csv('vct3.csv', index=False)\n",
    "# 94.60544"
   ]
  },
  {
   "cell_type": "code",
   "execution_count": 158,
   "metadata": {},
   "outputs": [],
   "source": [
    "estimators=[('RF', RandomForestRegressor(max_depth=50, max_features=15, min_samples_split=2, n_estimators=5000)), ('XGB', XGBRegressor(gamma=0, learning_rate=0.2, max_depth=6, min_child_weight=5, red_lambda=1, sampling_method='uniform')), ('LGB', LGBMRegressor()), ('CAT', CatBoostRegressor(iterations=5000, learning_rate=0.02, l2_leaf_reg=1.0, depth=6, grow_policy='SymmetricTree', loss_function='RMSE', logging_level='Silent'))]\n",
    "st=StackingRegressor(estimators=estimators, final_estimator=CatBoostRegressor(logging_level='Silent'))\n",
    "st.fit(x_sc_train, ynp)\n",
    "y_test=pd.DataFrame(np.expm1(st.predict(x_sc_test)))\n",
    "fin=pd.concat([test['Customer Id'], y_test], axis=1)\n",
    "fin.columns=['Customer Id', 'Cost']\n",
    "fin.to_csv('stt1.csv', index=False)\n",
    "# 93.86700"
   ]
  },
  {
   "cell_type": "code",
   "execution_count": 159,
   "metadata": {},
   "outputs": [],
   "source": [
    "estimators=[('RF', RandomForestRegressor(max_depth=50, max_features=15, min_samples_split=2, n_estimators=5000)), ('XGB', XGBRegressor(gamma=0, learning_rate=0.2, max_depth=6, min_child_weight=5, red_lambda=1, sampling_method='uniform')), ('LGB', LGBMRegressor()), ('CAT', CatBoostRegressor(iterations=5000, learning_rate=0.02, l2_leaf_reg=1.0, depth=6, grow_policy='SymmetricTree', loss_function='RMSE', logging_level='Silent'))]\n",
    "st=StackingRegressor(estimators=estimators, final_estimator=CatBoostRegressor(iterations=5000, learning_rate=0.02, l2_leaf_reg=1.0, depth=6, grow_policy='SymmetricTree', loss_function='RMSE',logging_level='Silent'))\n",
    "st.fit(x_sc_train, ynp)\n",
    "y_test=pd.DataFrame(np.expm1(st.predict(x_sc_test)))\n",
    "fin=pd.concat([test['Customer Id'], y_test], axis=1)\n",
    "fin.columns=['Customer Id', 'Cost']\n",
    "fin.to_csv('stt2.csv', index=False)\n",
    "# 93.17895"
   ]
  },
  {
   "cell_type": "code",
   "execution_count": 160,
   "metadata": {},
   "outputs": [],
   "source": [
    "estimators=[('RF', RandomForestRegressor(max_depth=50, max_features=15, min_samples_split=2, n_estimators=5000)), ('XGB', XGBRegressor(gamma=0, learning_rate=0.2, max_depth=6, min_child_weight=5, red_lambda=1, sampling_method='uniform')), ('LGB', LGBMRegressor()), ('GBR', GradientBoostingRegressor()), ('CAT', CatBoostRegressor(iterations=5000, learning_rate=0.02, l2_leaf_reg=1.0, depth=6, grow_policy='SymmetricTree', loss_function='RMSE', logging_level='Silent'))]\n",
    "st=StackingRegressor(estimators=estimators, final_estimator=CatBoostRegressor(iterations=5000, learning_rate=0.02, l2_leaf_reg=1.0, depth=6, grow_policy='SymmetricTree', loss_function='RMSE',logging_level='Silent'))\n",
    "st.fit(x_sc_train, ynp)\n",
    "y_test=pd.DataFrame(np.expm1(st.predict(x_sc_test)))\n",
    "fin=pd.concat([test['Customer Id'], y_test], axis=1)\n",
    "fin.columns=['Customer Id', 'Cost']\n",
    "fin.to_csv('stt3.csv', index=False)\n",
    "# 93.16256"
   ]
  },
  {
   "cell_type": "code",
   "execution_count": 161,
   "metadata": {},
   "outputs": [],
   "source": [
    "estimators=[('RF', RandomForestRegressor(max_depth=50, max_features=15, min_samples_split=2, n_estimators=5000)), ('XGB', XGBRegressor(gamma=0, learning_rate=0.2, max_depth=6, min_child_weight=5, red_lambda=1, sampling_method='uniform')), ('CAT', CatBoostRegressor(iterations=5000, learning_rate=0.02, l2_leaf_reg=1.0, depth=6, grow_policy='SymmetricTree', loss_function='RMSE', logging_level='Silent'))]\n",
    "st=StackingRegressor(estimators=estimators, final_estimator=CatBoostRegressor(iterations=5000, learning_rate=0.02, l2_leaf_reg=1.0, depth=6, grow_policy='SymmetricTree', loss_function='RMSE',logging_level='Silent'))\n",
    "st.fit(x_sc_train, ynp)\n",
    "y_test=pd.DataFrame(np.expm1(st.predict(x_sc_test)))\n",
    "fin=pd.concat([test['Customer Id'], y_test], axis=1)\n",
    "fin.columns=['Customer Id', 'Cost']\n",
    "fin.to_csv('stt4.csv', index=False)\n",
    "# 93.79633"
   ]
  },
  {
   "cell_type": "code",
   "execution_count": null,
   "metadata": {},
   "outputs": [],
   "source": []
  }
 ],
 "metadata": {
  "kernelspec": {
   "display_name": "Python 3",
   "language": "python",
   "name": "python3"
  },
  "language_info": {
   "codemirror_mode": {
    "name": "ipython",
    "version": 3
   },
   "file_extension": ".py",
   "mimetype": "text/x-python",
   "name": "python",
   "nbconvert_exporter": "python",
   "pygments_lexer": "ipython3",
   "version": "3.7.3"
  }
 },
 "nbformat": 4,
 "nbformat_minor": 4
}
